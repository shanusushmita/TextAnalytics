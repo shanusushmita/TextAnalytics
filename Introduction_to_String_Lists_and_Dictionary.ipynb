{
  "nbformat": 4,
  "nbformat_minor": 0,
  "metadata": {
    "colab": {
      "name": "Introduction to String Lists and Dictionary.ipynb",
      "provenance": [],
      "authorship_tag": "ABX9TyP6yDUi5pTHmS13mC4ytEHQ",
      "include_colab_link": true
    },
    "kernelspec": {
      "name": "python3",
      "display_name": "Python 3"
    }
  },
  "cells": [
    {
      "cell_type": "markdown",
      "metadata": {
        "id": "view-in-github",
        "colab_type": "text"
      },
      "source": [
        "<a href=\"https://colab.research.google.com/github/shanusushmita/TextAnalytics/blob/master/Introduction_to_String_Lists_and_Dictionary.ipynb\" target=\"_parent\"><img src=\"https://colab.research.google.com/assets/colab-badge.svg\" alt=\"Open In Colab\"/></a>"
      ]
    },
    {
      "cell_type": "markdown",
      "metadata": {
        "id": "xjU79EYD2uAQ",
        "colab_type": "text"
      },
      "source": [
        "This is the introduction section on python!\n"
      ]
    },
    {
      "cell_type": "markdown",
      "metadata": {
        "id": "eA9-fASk3JpA",
        "colab_type": "text"
      },
      "source": [
        "Lets start by looking at Strings ! Strings are basics for text analytics."
      ]
    },
    {
      "cell_type": "code",
      "metadata": {
        "id": "tRv7tDwE2-2z",
        "colab_type": "code",
        "colab": {}
      },
      "source": [
        "S1 = 'this is my favorite text'\n",
        "S2 = 'I love typing it'\n",
        "print (S1, S2)\n",
        "print (S1)\n"
      ],
      "execution_count": 0,
      "outputs": []
    },
    {
      "cell_type": "markdown",
      "metadata": {
        "id": "iJTsvmGV8Kfg",
        "colab_type": "text"
      },
      "source": [
        "Lists are collections of arbitrary heterogeneous or homogenous typed objects. Lists also follow a sequence based on the order in which the objects are present in the list, and each object has its own index with which it can be accessed. Lists are similar to arrays in other languages."
      ]
    },
    {
      "cell_type": "code",
      "metadata": {
        "id": "m_DRgZ1Q8QKd",
        "colab_type": "code",
        "colab": {}
      },
      "source": [
        " l1 = ['eggs', 'flour', 'butter']\n",
        " print(l1)\n",
        " # Indexing Lists\n",
        " l1[0]\n",
        " l1[2]\n"
      ],
      "execution_count": 0,
      "outputs": []
    },
    {
      "cell_type": "markdown",
      "metadata": {
        "id": "MRhkaOXy9sr_",
        "colab_type": "text"
      },
      "source": [
        "Dictionaries in Python are key-value mappings that are unordered. They are often known as hashmaps, associative arrays, and associative memories. Dictionaries are indexed using keys."
      ]
    },
    {
      "cell_type": "code",
      "metadata": {
        "id": "FiCURo719yie",
        "colab_type": "code",
        "colab": {
          "base_uri": "https://localhost:8080/",
          "height": 34
        },
        "outputId": "4f8179e6-0c9c-4055-a706-f501f768f7dc"
      },
      "source": [
        "d1 = {'eggs': 2, 'milk': 3, 'spam': 10, 'ham': 15}\n",
        "d1\n",
        "#retrieving items based on key\n",
        "d1.get('eggs')"
      ],
      "execution_count": 10,
      "outputs": [
        {
          "output_type": "execute_result",
          "data": {
            "text/plain": [
              "2"
            ]
          },
          "metadata": {
            "tags": []
          },
          "execution_count": 10
        }
      ]
    }
  ]
}