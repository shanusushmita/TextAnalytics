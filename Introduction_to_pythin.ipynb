{
  "nbformat": 4,
  "nbformat_minor": 0,
  "metadata": {
    "colab": {
      "name": "Introduction to pythin.ipynb",
      "provenance": [],
      "authorship_tag": "ABX9TyM8C8+kKilo00Gcna2qQMPU",
      "include_colab_link": true
    },
    "kernelspec": {
      "name": "python3",
      "display_name": "Python 3"
    }
  },
  "cells": [
    {
      "cell_type": "markdown",
      "metadata": {
        "id": "view-in-github",
        "colab_type": "text"
      },
      "source": [
        "<a href=\"https://colab.research.google.com/github/shanusushmita/TextAnalytics/blob/master/Introduction_to_pythin.ipynb\" target=\"_parent\"><img src=\"https://colab.research.google.com/assets/colab-badge.svg\" alt=\"Open In Colab\"/></a>"
      ]
    },
    {
      "cell_type": "markdown",
      "metadata": {
        "id": "xjU79EYD2uAQ",
        "colab_type": "text"
      },
      "source": [
        "This is the introduction section on python!\n"
      ]
    },
    {
      "cell_type": "markdown",
      "metadata": {
        "id": "eA9-fASk3JpA",
        "colab_type": "text"
      },
      "source": [
        "Lets start by looking at Strings ! Strings are basics for text analytics."
      ]
    },
    {
      "cell_type": "code",
      "metadata": {
        "id": "tRv7tDwE2-2z",
        "colab_type": "code",
        "colab": {}
      },
      "source": [
        "S1 = 'this is my favorite text'\n",
        "S2 = 'I love typing it'\n",
        "print (S1, S2)\n",
        "print (S1)\n"
      ],
      "execution_count": 0,
      "outputs": []
    },
    {
      "cell_type": "markdown",
      "metadata": {
        "id": "iJTsvmGV8Kfg",
        "colab_type": "text"
      },
      "source": [
        "Lists are collections of arbitrary heterogeneous or homogenous typed objects. Lists also follow a sequence based on the order in which the objects are present in the list, and each object has its own index with which it can be accessed. Lists are similar to arrays in other languages."
      ]
    },
    {
      "cell_type": "code",
      "metadata": {
        "id": "m_DRgZ1Q8QKd",
        "colab_type": "code",
        "colab": {}
      },
      "source": [
        " l1 = ['eggs', 'flour', 'butter']\n",
        " print(l1)\n",
        " # Indexing Lists\n",
        " l1[0]\n",
        " l1[2]\n"
      ],
      "execution_count": 0,
      "outputs": []
    },
    {
      "cell_type": "markdown",
      "metadata": {
        "id": "MRhkaOXy9sr_",
        "colab_type": "text"
      },
      "source": [
        "Dictionaries in Python are key-value mappings that are unordered. They are often known as hashmaps, associative arrays, and associative memories. Dictionaries are indexed using keys."
      ]
    },
    {
      "cell_type": "code",
      "metadata": {
        "id": "FiCURo719yie",
        "colab_type": "code",
        "colab": {}
      },
      "source": [
        "d1 = {'eggs': 2, 'milk': 3, 'spam': 10, 'ham': 15}\n",
        "d1\n",
        "#retrieving items based on key\n",
        "d1.get('eggs')"
      ],
      "execution_count": 0,
      "outputs": []
    },
    {
      "cell_type": "markdown",
      "metadata": {
        "id": "iE6KdUa6_S0Q",
        "colab_type": "text"
      },
      "source": [
        "Controlling Code Flow. Python provides several control flow tools and utilities that can be used to control the flow of your code. For isntance: if-else-if loop, for loop, while loop, etc.\n"
      ]
    },
    {
      "cell_type": "code",
      "metadata": {
        "id": "NnbqkbJT_iNk",
        "colab_type": "code",
        "outputId": "1977b735-d4d7-42f6-8358-e8347bfb0749",
        "colab": {
          "base_uri": "https://localhost:8080/",
          "height": 51
        }
      },
      "source": [
        "var= 'fly'\n",
        "if var == 'fly':\n",
        "    print(var)\n",
        "\n",
        "var = 'high'\n",
        "if var == 'fly':\n",
        "  print(var)\n",
        "elif var =='high':\n",
        "  print(var)"
      ],
      "execution_count": 0,
      "outputs": [
        {
          "output_type": "stream",
          "text": [
            "fly\n",
            "high\n"
          ],
          "name": "stdout"
        }
      ]
    },
    {
      "cell_type": "code",
      "metadata": {
        "id": "VwhZ-qGcQTlO",
        "colab_type": "code",
        "colab": {}
      },
      "source": [
        "var = 'foo'\n",
        "if var == 'spam':\n",
        "    print('spam')\n",
        "elif var == 'ham':\n",
        "    print('ham')\n",
        "else:\n",
        "    print('Neither Spam or Ham')\n"
      ],
      "execution_count": 0,
      "outputs": []
    },
    {
      "cell_type": "markdown",
      "metadata": {
        "id": "4PqPiWUESjWs",
        "colab_type": "text"
      },
      "source": [
        "Working with Text: Basic Operations. You can perform several basic operations on strings, including concatenation and checking for substrings, characters, and lengths."
      ]
    },
    {
      "cell_type": "code",
      "metadata": {
        "id": "dYn0nNvkUMLm",
        "colab_type": "code",
        "colab": {}
      },
      "source": [
        "# Different ways of String concatenation\n",
        "'Hello' + ' and welcome ' + 'to Text Analytics with Python!'"
      ],
      "execution_count": 0,
      "outputs": []
    },
    {
      "cell_type": "code",
      "metadata": {
        "id": "7jmALNAHU2-B",
        "colab_type": "code",
        "colab": {}
      },
      "source": [
        "'Hello' ' and welcome ' 'to Python!'"
      ],
      "execution_count": 0,
      "outputs": []
    },
    {
      "cell_type": "code",
      "metadata": {
        "id": "Vz3QlY2_VFRW",
        "colab_type": "code",
        "colab": {}
      },
      "source": [
        "# concatenation of variables and literals\n",
        "s1 = 'Python!'\n",
        "'Hello ' + s1"
      ],
      "execution_count": 0,
      "outputs": []
    },
    {
      "cell_type": "code",
      "metadata": {
        "id": "XtvLupLOVRDn",
        "colab_type": "code",
        "colab": {}
      },
      "source": [
        "# concatenating several strings together in parentheses\n",
        "s3 = ('This '\n",
        "      'is'\n",
        "      'another way to'\n",
        "      'concatenate string')\n",
        "s3"
      ],
      "execution_count": 0,
      "outputs": []
    },
    {
      "cell_type": "markdown",
      "metadata": {
        "id": "vx2wb921Vt-W",
        "colab_type": "text"
      },
      "source": [
        "Indexing and Slicing: Accessing a single character using a specific position or index in the string is called indexing, and accessing a part of a string, for example, a substring using a start and end index, is called slicing. "
      ]
    },
    {
      "cell_type": "code",
      "metadata": {
        "id": "ZciqxpUkVzem",
        "colab_type": "code",
        "outputId": "a8c09c4f-baed-4495-fb94-8284d9115c35",
        "colab": {
          "base_uri": "https://localhost:8080/",
          "height": 187
        }
      },
      "source": [
        "#The following examples shows how to index, slice, and iterate through strings:\n",
        "# Creating a String\n",
        "s = \"washington\"\n",
        "# depicting string indexes\n",
        "for index, character in enumerate(s):\n",
        "  print('Character -' + character+':', 'has index:', index)"
      ],
      "execution_count": 0,
      "outputs": [
        {
          "output_type": "stream",
          "text": [
            "Character -w: has index: 0\n",
            "Character -a: has index: 1\n",
            "Character -s: has index: 2\n",
            "Character -h: has index: 3\n",
            "Character -i: has index: 4\n",
            "Character -n: has index: 5\n",
            "Character -g: has index: 6\n",
            "Character -t: has index: 7\n",
            "Character -o: has index: 8\n",
            "Character -n: has index: 9\n"
          ],
          "name": "stdout"
        }
      ]
    },
    {
      "cell_type": "code",
      "metadata": {
        "id": "DhBl9-TzX1DU",
        "colab_type": "code",
        "colab": {}
      },
      "source": [
        "# string indexing\n",
        "str = \"Washington\"\n",
        "print(str[0])\n",
        "print(str[5])"
      ],
      "execution_count": 0,
      "outputs": []
    },
    {
      "cell_type": "code",
      "metadata": {
        "id": "_vhuk0xoYQGT",
        "colab_type": "code",
        "colab": {}
      },
      "source": [
        "# string slicing\n",
        "s = \"PYTHON\"\n",
        "#s[:]\n",
        "#s[1:4]\n",
        "#s[:3]"
      ],
      "execution_count": 0,
      "outputs": []
    },
    {
      "cell_type": "markdown",
      "metadata": {
        "id": "QK4B_02Sg_XC",
        "colab_type": "text"
      },
      "source": [
        "Working with text: Methods: There are several built-in methods in python at your disposal, which\n",
        "you can use for performing various transformations, manipulations, and operations on strings. "
      ]
    },
    {
      "cell_type": "code",
      "metadata": {
        "id": "6LZHhLSShUoL",
        "colab_type": "code",
        "colab": {
          "base_uri": "https://localhost:8080/",
          "height": 34
        },
        "outputId": "76269ad1-f8c2-47f1-facf-ed1f244266c3"
      },
      "source": [
        "# case conversions\n",
        "s = 'text analytics is very useful'\n",
        "#s.capitalize()\n",
        "s.upper()"
      ],
      "execution_count": 30,
      "outputs": [
        {
          "output_type": "execute_result",
          "data": {
            "text/plain": [
              "'TEXT ANALYTICS IS VERY USEFUL'"
            ]
          },
          "metadata": {
            "tags": []
          },
          "execution_count": 30
        }
      ]
    },
    {
      "cell_type": "code",
      "metadata": {
        "id": "vLCdubWlhrVz",
        "colab_type": "code",
        "colab": {
          "base_uri": "https://localhost:8080/",
          "height": 34
        },
        "outputId": "9da9ee25-14be-40b8-d13e-e75c6c3e5abc"
      },
      "source": [
        "# string replace\n",
        "s = 'python is great'\n",
        "s.replace('python', 'analytics')"
      ],
      "execution_count": 32,
      "outputs": [
        {
          "output_type": "execute_result",
          "data": {
            "text/plain": [
              "'analytics is great'"
            ]
          },
          "metadata": {
            "tags": []
          },
          "execution_count": 32
        }
      ]
    },
    {
      "cell_type": "code",
      "metadata": {
        "id": "zS7S4GDmh_CS",
        "colab_type": "code",
        "colab": {
          "base_uri": "https://localhost:8080/",
          "height": 34
        },
        "outputId": "ffdedf39-dc1b-4579-e1a3-e285a16fac1f"
      },
      "source": [
        "# string splitting and joining\n",
        "s = 'I,am,a,comma,separated,string'\n",
        "s.split(',')"
      ],
      "execution_count": 33,
      "outputs": [
        {
          "output_type": "execute_result",
          "data": {
            "text/plain": [
              "['I', 'am', 'a', 'comma', 'separated', 'string']"
            ]
          },
          "metadata": {
            "tags": []
          },
          "execution_count": 33
        }
      ]
    },
    {
      "cell_type": "code",
      "metadata": {
        "id": "USzuZFC3iHrc",
        "colab_type": "code",
        "colab": {
          "base_uri": "https://localhost:8080/",
          "height": 51
        },
        "outputId": "a6ea65e5-56a8-4e53-e301-5bc7a04fcc9e"
      },
      "source": [
        "# stripping whitespace characters\n",
        "s = '   I am surrounded by spaces    '\n",
        "print(s)\n",
        "s.strip()\n",
        "print(s)"
      ],
      "execution_count": 35,
      "outputs": [
        {
          "output_type": "stream",
          "text": [
            "   I am surrounded by spaces    \n",
            "   I am surrounded by spaces    \n"
          ],
          "name": "stdout"
        }
      ]
    },
    {
      "cell_type": "code",
      "metadata": {
        "id": "hs6tD3_tiXPj",
        "colab_type": "code",
        "colab": {
          "base_uri": "https://localhost:8080/",
          "height": 34
        },
        "outputId": "e971730a-6c40-4b73-a5f8-75910b3b43c0"
      },
      "source": [
        "# coverting to title case\n",
        "s = 'this is in lower case'\n",
        "s.title()"
      ],
      "execution_count": 36,
      "outputs": [
        {
          "output_type": "execute_result",
          "data": {
            "text/plain": [
              "'This Is In Lower Case'"
            ]
          },
          "metadata": {
            "tags": []
          },
          "execution_count": 36
        }
      ]
    }
  ]
}